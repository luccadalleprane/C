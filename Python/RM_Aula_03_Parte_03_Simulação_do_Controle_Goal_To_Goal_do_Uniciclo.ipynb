{
  "nbformat": 4,
  "nbformat_minor": 0,
  "metadata": {
    "colab": {
      "provenance": []
    },
    "kernelspec": {
      "name": "python3",
      "display_name": "Python 3"
    }
  },
  "cells": [
    {
      "cell_type": "markdown",
      "metadata": {
        "id": "xY4HggibcnEe"
      },
      "source": [
        "# **Robótica Móvel - Aula 03 - Robôs de Tração Diferencial - Parte 03**"
      ]
    },
    {
      "cell_type": "markdown",
      "metadata": {
        "id": "Ugm-Xb3Bsvku"
      },
      "source": [
        "# **Exercício de Programação 05**\n",
        "###**Simulação do comportamenteo Goal-To-Goal do uniciclo**\n",
        "\n",
        "* Modifique a referência para $x_g=-3$, $y_g=4$ e verifique a simulação;\n",
        "* Modifique a referência para $x_g=0$, $y_g=0.6$ e verifique a simulação;\n",
        "* Modifique a referência para $x_g=-3$, $y_g=4$, o ganho $K_p = 0.5$ e verifique a simulação;\n",
        "* Modifique a referência para $x_g=-3$, $y_g=4$, o ganho $K_p = 2.0$ e o parâmetro $l=0.01$ e verifique a simulação;\n",
        "* Percebeu que não houve convergência em todos os casos? Analise os motivos.\n"
      ]
    },
    {
      "cell_type": "code",
      "metadata": {
        "id": "ZJwmdYkpb0ia",
        "colab": {
          "base_uri": "https://localhost:8080/",
          "height": 135
        },
        "outputId": "c8a8a100-5946-4f81-d169-f17e3e8adfda"
      },
      "source": [
        "import matplotlib.pyplot as plt\n",
        "import numpy as np\n",
        "\n",
        "dt = 0.05 #dt em segundos\n",
        "tf = 30.0 #tempo final da simulação\n",
        "t = np.arange(0.0, tf, dt) #Tempo de Simulação Numérica\n",
        "\n",
        "#Vetores de armazenagem dos estados\n",
        "x_v = np.zeros(np.size(t))\n",
        "y_v = np.zeros(np.size(t))\n",
        "phi_v = np.zeros(np.size(t))\n",
        "phid_v = np.zeros(np.size(t))\n",
        "rho_v = np.zeros(np.size(t))\n",
        "\n",
        "#Entradas do unciclo\n",
        "u = 0\n",
        "w  = 0\n",
        "\n",
        "#Estados do uniciclo\n",
        "x  = 0\n",
        "y  = 0\n",
        "phi  = 0\n",
        "\n",
        "#Dados do destino\n",
        "xg = 3\n",
        "yg = 4\n",
        "\n",
        "#Realizar o controle Goal-to-Goal?\n",
        "controle = True\n",
        "Kp = 2.0 # Começar com Kp = 2.0 || Em seguida, testar Kp = 0.5\n",
        "u0 = 1.5\n",
        "\n",
        "#Controle do Gráfico\n",
        "N = 0\n",
        "\n",
        "def norm_ang(a):\n",
        "  return np.arctan2(np.sin(a),np.cos(a))\n",
        "\n",
        "for k in range(0,(np.size(t))-1):\n",
        "    #Controle Goal-to-Goal básico\n",
        "    phid = np.arctan2(yg-y,xg-x)\n",
        "    e = phid - phi\n",
        "    e = norm_ang(e)\n",
        "\n",
        "    rho = np.sqrt((xg-x)**2 + (yg-y)**2)\n",
        "\n",
        "    if rho < 0.1:\n",
        "        controle = False\n",
        "\n",
        "    if controle:\n",
        "        u = u0\n",
        "        w = Kp * e\n",
        "        N = int(k/2)\n",
        "    else:\n",
        "        u = 0.0\n",
        "        w = 0.0\n",
        "\n",
        "    # Uniciclo\n",
        "    xp = u * np.cos(phi)\n",
        "    yp = u * np.sin(phi)\n",
        "    phip = w\n",
        "\n",
        "    #Integração Numérica\n",
        "    x = x + xp * dt\n",
        "    y = y + yp * dt\n",
        "    phi = phi + phip * dt\n",
        "\n",
        "    #Correção de ângulo para o domínio [-pi,pi]\n",
        "    #phi = norm_ang(phi)\n",
        "\n",
        "    #Armazenagem de dados\n",
        "    x_v[k+1] = x\n",
        "    y_v[k+1] = y\n",
        "    phi_v[k+1] = phi\n",
        "    phid_v[k+1] = phid\n",
        "    rho_v[k+1] = rho\n",
        "\n",
        "#Parte gráfica\n",
        "plt.figure(1)\n",
        "plt.grid()\n",
        "plt.plot(t,phi_v,label=\"$\\phi$\")\n",
        "plt.plot(t,phid_v,label=\"$\\phi_d$\")\n",
        "\n",
        "plt.legend()\n",
        "plt.xlabel('t [s]') #label do eixo x\n",
        "plt.ylabel('Orientação [rad]') #label do eixo y\n",
        "plt.title('Orientação do Robô') #título do gráfico\n",
        "\n",
        "plt.figure(2)\n",
        "plt.grid()\n",
        "plt.plot(t, xg*np.ones(np.size(t)),'--', label=\"$x_g$\")\n",
        "plt.plot(t,x_v,label=\"$x$\")\n",
        "plt.plot(t, yg*np.ones(np.size(t)),'--', label=\"$y_g$\")\n",
        "plt.plot(t,y_v,label=\"$y$\")\n",
        "\n",
        "plt.legend()\n",
        "plt.xlabel('t [s]') #label do eixo x\n",
        "plt.ylabel('Posições [m]') #label do eixo y\n",
        "plt.title('Posições do Robô') #título do gráfico\n",
        "\n",
        "plt.figure(3)\n",
        "plt.grid()\n",
        "plt.xlim(-8, 8)\n",
        "plt.ylim(-8, 8)\n",
        "\n",
        "plt.arrow(x_v[0], y_v[0], np.cos(phi_v[0])/200, np.sin(phi_v[0])/200, color='y', width=0.25)\n",
        "plt.arrow(x_v[N], y_v[N], np.cos(phi_v[N])/200, np.sin(phi_v[N])/200, color='y', width=0.25)\n",
        "plt.plot(xg, yg, '*', color = 'b',  markersize=8)\n",
        "plt.arrow(x_v[np.size(t)-1], y_v[np.size(t)-1], np.cos(phi_v[np.size(t)-1])/200,np.sin(phi_v[np.size(t)-1])/200, color='y', width=0.25)\n",
        "plt.plot(x_v, y_v, '--')\n",
        "plt.xlabel('x [m]') #label do eixo x\n",
        "plt.ylabel('y [m]') #label do eixo y\n",
        "plt.title('Movimento do Robô') #título do gráfico\n",
        "plt.show()"
      ],
      "execution_count": null,
      "outputs": [
        {
          "output_type": "error",
          "ename": "SyntaxError",
          "evalue": "ignored",
          "traceback": [
            "\u001b[0;36m  File \u001b[0;32m\"<ipython-input-1-a7db29676dbd>\"\u001b[0;36m, line \u001b[0;32m36\u001b[0m\n\u001b[0;31m    def norm_ang(a)\u001b[0m\n\u001b[0m                   ^\u001b[0m\n\u001b[0;31mSyntaxError\u001b[0m\u001b[0;31m:\u001b[0m invalid syntax\n"
          ]
        }
      ]
    }
  ]
}